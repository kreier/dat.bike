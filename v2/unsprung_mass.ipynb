{
  "nbformat": 4,
  "nbformat_minor": 0,
  "metadata": {
    "colab": {
      "name": "unsprung-mass.ipynb",
      "provenance": []
    },
    "kernelspec": {
      "name": "python3",
      "display_name": "Python 3"
    }
  },
  "cells": [
    {
      "cell_type": "markdown",
      "metadata": {
        "id": "xx12wBcYSWdW"
      },
      "source": [
        "# Unsprung mass and rear suspension\n",
        "\n",
        "We want to investigate the effect of the unsprung mass on the rear wheel on the riding comfort.\n",
        "\n",
        "## Current situation\n",
        "\n",
        "The [registration authority](http://203.162.20.156/vaq/Xecogioi_sxlr/FoundDetail_tso_mto.asp?sid=896178) states that the weight distribution for the $85 kg$ bike is $35/50 kg$. We can therefore focus on the rear axis and a total weight of $50 kg$. For gravitational acceleration we use $9.81 ms^{-2}$. But how much of this mass is unsprung?\n",
        "\n",
        "The [QS Motor 205 50H V3](http://www.cnqsmotor.com/en/article_read/QS%20Motor%20205%2050H%20V3%20Motor%203000W%20Electric%20High%20Power%20Bike%20Spoke%20Hub%20Motor/259.html) has a mass of $14.5 kg$. We add $2 kg$ for the 17” rim, $1 kg$ for the 36 spokes and $2.9 kg$ for the 80/90-17 Michelin (Metzler?) tire. The swingarm might have $5 kg$, but is on one side fixed on the sprung mass. If the center of mass is estimated in the middle then it only moves 50% of the unsprung mass, we can therefore calculate it as a $2.5 kg$ unsprung mass. \n",
        "\n",
        "\n"
      ]
    },
    {
      "cell_type": "code",
      "metadata": {
        "colab": {
          "base_uri": "https://localhost:8080/"
        },
        "id": "uS5iQMh_SI3D",
        "outputId": "ca6fb5c0-6846-4f00-a16c-fc1d48b51cda"
      },
      "source": [
        "m_bike     = 85       # mass of total bike in kg\n",
        "m_rear     = 50\n",
        "m_motor    = 14.5\n",
        "m_rim      = 2.0\n",
        "m_spokes   = 1.0\n",
        "m_tire     = 2.9      # for Michellin 80/90-17\n",
        "m_swingarm = 5\n",
        "\n",
        "# since one side of the swingarm is fixed to the sprung frame it only contributes 50%\n",
        "\n",
        "m_unsprung = m_motor + m_rim + m_spokes + m_tire + 0.5 * m_swingarm\n",
        "m_sprung   = m_rear - m_unsprung\n",
        "\n",
        "print(\"The unsprung mass of the swingarm is \" + str(m_unsprung) + \" kg.\")\n",
        "print(\"The sprung mass on the rear of the bike is \" + str(m_sprung) + \" kg.\")"
      ],
      "execution_count": 4,
      "outputs": [
        {
          "output_type": "stream",
          "text": [
            "The unsprung mass of the swingarm is 22.9 kg.\n",
            "The sprung mass on the rear of the bike is 27.1 kg.\n"
          ],
          "name": "stdout"
        }
      ]
    },
    {
      "cell_type": "markdown",
      "metadata": {
        "id": "IQonnb4MU6kE"
      },
      "source": [
        "This leaves us a total of \n",
        "$$\n",
        "14.5+2+1+2.9+2.5 = 22.9kg\n",
        "$$\n",
        "\n",
        "For the sprung rear bike part remains $50-22.9=27.1kg$ sprung mass.\n",
        "\n",
        "## Obstacle on the road\n",
        "\n",
        "While riding with $36 km/h$ or $10 m/s$ the wheel comes in contact with an uneven part of the street, for example a $10 mm$ rock. Simple trigonometry tells that the distance from touching the 17” wheel ($432 mm$ diameter) until it is vertically under the axis has a distance of $65 mm$ (see [GeoGebra construction](https://www.geogebra.org/geometry/kmvctfvh) with [update](https://www.geogebra.org/geometry/rtfxnzrf)). With $10 m/s$ this takes \n",
        "$$\n",
        "t = s/v = 0.065 / 10 = 6.5ms\n",
        "$$ \n",
        "\n",
        "The wheel moves in this time $1cm$ upwards with a speed of \n",
        "\n",
        "$$\n",
        "v = s / t =  0.01 m/ 0.0065 s = 1.5 m/s\n",
        "$$\n",
        "\n",
        "This initial scenario is equal for both cases with current design and improved design.\n",
        "\n",
        "For this impact we only consider the vertical movement of the unsprung mass (superposition principle). The initial velocity is $v_0 = 1.5 ms^{-1}$, the unsprung mass is $m_1 = 22.9 kg$ and the force is a combination of $F_G = m_1g$ and the force exerted by the spring $F_S = m_2g$ from the sprung mass $m_2 = 27.1kg$. These forces combine to \n",
        "$$\n",
        "F = F_G + F_S = m_1g + m_2g = (m_1 + m_2)g = 22.9kg + 27.1kg)9.81 ms^{-2}\n",
        "$$\n",
        "\n",
        "This leads to an acceleration of the wheel of \n",
        "\n",
        "$$\n",
        "a = \\frac{F}{m} = \\frac{(m_1 + m_2)g}{m_1} = \\frac{50}{22.9}g = 2.18g = 21.4 ms^{-2}\n",
        "$$\n",
        "\n",
        "We use this acceleration to calculate the maximum height the wheel “jumps” and the time it is in the air. Of course this is an oversimplification since the exerted force from the spring will increase with its compression, but we address this later. The fitting SUVAT formulas are **(1)** $v^2 = u^2 + 2as$ for the height and **(2)** $s = vt + ½ at^2$ for the time.\n",
        "\n",
        "The maximum height $h_{max} = s$ in (1) simplifies to $s = h_{max} = -2u^2/a$ since the final velocity at the highest point is $v = 0$. \n",
        "\n",
        "$$\n",
        "h_{max} = -\\frac{2u^2}{a}\n",
        "$$\n",
        "\n",
        "For the time in the air we set the distance traveled $s$ in (2) to zero as the wheel returns to the asphalt. The remaining $0 = vt + ½ at^2$ can then be divided by $t$ to $0 = v + ½ at$ and rearranged to \n",
        "\n",
        "$$\n",
        "t = -\\frac{2v}{a}\n",
        "$$ \n",
        "\n",
        "In both cases we get positive values since the acceleration is negative.\n"
      ]
    },
    {
      "cell_type": "code",
      "metadata": {
        "colab": {
          "base_uri": "https://localhost:8080/"
        },
        "id": "yAZWudD_VIuv",
        "outputId": "4be05013-57b7-4c80-f53a-bfca5278ee6c"
      },
      "source": [
        "u = 1.5      # initial upward velocity in m/s\n",
        "a = -21.4    # downward acceleration of the wheel\n",
        "v = u        # the second SUVAT has only one velocity\n",
        "\n",
        "h_max = - 2 * u**2 / a\n",
        "t     = - 2 * v / a\n",
        "\n",
        "print(\"The maximum height is {:.3f} meter.\".format(h_max))\n",
        "print(\"The time in the air is {:.3f} seconds.\".format(t))"
      ],
      "execution_count": 7,
      "outputs": [
        {
          "output_type": "stream",
          "text": [
            "The maximum height is 0.210 meter.\n",
            "The time in the air is 0.140 seconds.\n"
          ],
          "name": "stdout"
        }
      ]
    },
    {
      "cell_type": "markdown",
      "metadata": {
        "id": "20Gzp7opVKBj"
      },
      "source": [
        "\n",
        "The results are\n",
        "\n",
        "$$\n",
        "h = 0.21 m \\\\\n",
        "t = 0.14 s\n",
        "$$\n",
        "\n",
        "A jump of $21 centimeter$ is something the rider would certainly feel. The rubber of the tire reduces, the suspension takes part of it and there is 2cm foam on the seat left. Let’s compare to the upgraded drive train. Total mass of 50kg is unchanged, but the acceleration is now a = (m1 + m2)g / m1 = 50/12.2g = 4.10g = 40.2 m/s2 .  And we get (1) h = 2 * (1.5)2 / 40.2 = 0.11m and (2) t = 2 * 1.5 / 40.2 = 0.07 s. The reduction in jump and airtime is proportional to the weight reduction of the unsprung mass, almost 50%! One can imagine how much better the ride over the same street with the same diameter of wheels and the same weight of the bike will be if the wheel only elongates 11cm instead of 22cm. And only for half the time. This might be completely absorbed by the suspension and the seat, you don’t even feel it.\n",
        "\n",
        "In short: An uneven part on the road, 1cm high:\n",
        "Current drive train:\tjump 21cm\t0.14 seconds in the air\n",
        "Improved drive train:\tjump 11cm\t0,07 seconds in the air\n",
        "\n",
        "If the rear wheel has a maximum upward limit of 22 centimeters from its center point we can use this height to determine the spring constant. Completely compressed it should hold the maximum load of 215kg, where the empty bike is 85kg. The rear gets 50kg or 59% of all load, so the maximum load for the rear is 126kg. There should be a safety margin of at least 2cm. The spring would then compress by 20cm if we change the rear load from 50kg to 126kg, and increase of 76kg or 746 Newton. The spring constant from F = Ds is then D = F/s = 746 N / 0.2m = 3730 N/m The calculated force FS for the current drive train is then at the highest point no longer FS = m2g but FS = m2g + 746 N. The total force there is then Ftop = 50kg * 9.81 m/s2 + 746N= 491 N + 746 N = 1237 N. More than twice the force from neutral. The acceleration there would be a = F/m = 1237N/22.9kg = 54 m/s2. This reduces all values above mentioned. You still feel the higher impact from the almost double kinetic energy of the unsprung mass that has to be absorbed, stored in spring energy and released back to the wheel. Part of this energy makes it to your back, you feel it. And you describe your ride as “not very comfortable”. Guess why all major electric bike manufacturers (Gogoro, Zero bikes, Kymco, Pega, Harley Davidson, unu, Vespa) move the motor away from the rear axis for real motorbikes, not bicycle replacements. OK, the Super Soco TC looks similar to dat.bike, is a little more expensive, but the Max relocates the motor!"
      ]
    },
    {
      "cell_type": "markdown",
      "metadata": {
        "id": "iCNxkf1WWJE7"
      },
      "source": [
        "## Relocation of the motor\n",
        "\n",
        "If we move the motor out of the rear axes closer to the moving point of the wing, let’s say ⅔ or 67%. The QS 138 3000W 72V is lighter too with just 11.5kg. Reduced by 67% it only contributes with 3.8kg. The unsprung mass is therefore 3.8+2+1+2.9+2.5 = 12.2kg. Thats only 53% of the current design, 47% less unsprung mass! What is the effect?"
      ]
    }
  ]
}